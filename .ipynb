{
 "cells": [
  {
   "cell_type": "code",
   "execution_count": null,
   "metadata": {},
   "outputs": [
    {
     "data": {
      "text/plain": [
       "'encoded_tree_example.csv'"
      ]
     },
     "execution_count": 11,
     "metadata": {},
     "output_type": "execute_result"
    }
   ],
   "source": [
    "import pandas as pd\n",
    "\n",
    "start_date = \"2024-12-01\"\n",
    "end_date = \"2024-12-10\"\n",
    "date_range = pd.DataFrame(pd.date_range(start=start_date, end=end_date, freq=\"D\"))\n",
    "date_range.columns = ['date']\n",
    "\n",
    "data = [\n",
    "    {\"NodeID\": 1, \"ParentID\": None, \"Value\": \"Root\", \"Children\": 2},\n",
    "    {\"NodeID\": 2, \"ParentID\": 1, \"Value\": \"Child1\", \"Children\": 2},\n",
    "    {\"NodeID\": 3, \"ParentID\": 1, \"Value\": \"Child2\", \"Children\": 1},\n",
    "    {\"NodeID\": 4, \"ParentID\": 2, \"Value\": \"GrandChild1\", \"Children\": 0},\n",
    "    {\"NodeID\": 5, \"ParentID\": 2, \"Value\": \"GrandChild2\", \"Children\": 0},\n",
    "    {\"NodeID\": 6, \"ParentID\": 3, \"Value\": \"GrandChild3\", \"Children\": 0},\n",
    "    {\"NodeID\": 7, \"ParentID\": 3, \"Value\": \"GrandChild4\", \"Children\": 0},\n",
    "    {\"NodeID\": 8, \"ParentID\": 1, \"Value\": \"Child3\", \"Children\": 1},\n",
    "    {\"NodeID\": 9, \"ParentID\": 8, \"Value\": \"GrandChild5\", \"Children\": 0},\n",
    "    {\"NodeID\": 10, \"ParentID\": 8, \"Value\": \"GrandChild6\", \"Children\": 0},\n",
    "]\n",
    "\n",
    "df = pd.DataFrame(data).merge(date_range, how=\"cross\")\n",
    "file_path = \"dbt/data/encoded_tree_example.csv\"\n",
    "df.to_csv(file_path, index=False)\n",
    "\n",
    "file_path\n"
   ]
  }
 ],
 "metadata": {
  "kernelspec": {
   "display_name": "Python 3",
   "language": "python",
   "name": "python3"
  },
  "language_info": {
   "codemirror_mode": {
    "name": "ipython",
    "version": 3
   },
   "file_extension": ".py",
   "mimetype": "text/x-python",
   "name": "python",
   "nbconvert_exporter": "python",
   "pygments_lexer": "ipython3",
   "version": "3.13.0"
  }
 },
 "nbformat": 4,
 "nbformat_minor": 2
}
